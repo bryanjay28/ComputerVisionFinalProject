{
 "cells": [
  {
   "cell_type": "code",
   "execution_count": 1,
   "metadata": {},
   "outputs": [],
   "source": [
    "# Import necessary packages\n",
    "import cv2\n",
    "import numpy as np\n",
    "import math\n",
    "import matplotlib.pyplot as plt\n",
    "import os\n",
    "import sys\n",
    "import itertools\n",
    "from os import listdir\n",
    "from sklearn.model_selection import train_test_split\n",
    "from sklearn.metrics import accuracy_score\n",
    "from sklearn.neighbors import KNeighborsClassifier\n",
    "from sklearn.decomposition import PCA\n",
    "from sklearn.metrics import classification_report, confusion_matrix\n",
    "from sklearn.svm import LinearSVC\n",
    "import time\n",
    "from sklearn.linear_model import LogisticRegression\n",
    "from sklearn.neighbors import KNeighborsClassifier\n",
    "from sklearn.metrics import make_scorer, accuracy_score, precision_score, recall_score, f1_score\n",
    "from sklearn.model_selection import cross_val_score\n",
    "from sklearn.model_selection import cross_validate"
   ]
  },
  {
   "cell_type": "code",
   "execution_count": 4,
   "metadata": {},
   "outputs": [],
   "source": [
    "# Function to load the images given the folder name\n",
    "def load_folder(folder):\n",
    "    imgs = []\n",
    "    files = listdir('./MIO-TCD-Classification/train/{}/'.format(folder))\n",
    "    img_counter = 0\n",
    "    print(folder)\n",
    "    for img in files:\n",
    "        # Read the images in grayscale\n",
    "        img = cv2.cvtColor(cv2.imread('./MIO-TCD-Classification/train/{}/{}'.format(folder,img)), cv2.COLOR_BGR2GRAY)\n",
    "        # Perform a box blur on the images\n",
    "        kernel = np.array([[1/9,1/9,1/9], [1/9,1/9,1/9], [1/9,1/9,1/9]])\n",
    "        img = cv2.filter2D(img, -1, kernel)\n",
    "        # Resize to reduce computation time\n",
    "        img = cv2.resize(img, (32,32))\n",
    "        imgs.append(img)\n",
    "        img_counter += 1\n",
    "        if(img_counter==num_samples): break\n",
    "    return imgs"
   ]
  },
  {
   "cell_type": "code",
   "execution_count": 5,
   "metadata": {},
   "outputs": [
    {
     "name": "stdout",
     "output_type": "stream",
     "text": [
      "articulated_truck\n",
      "background\n",
      "bicycle\n",
      "bus\n",
      "car\n",
      "motorcycle\n",
      "non-motorized_vehicle\n",
      "pedestrian\n",
      "pickup_truck\n",
      "single_unit_truck\n",
      "work_van\n"
     ]
    }
   ],
   "source": [
    "# The number of images from each class to import\n",
    "num_samples = 1000000\n",
    "# Import images from each folder\n",
    "articulated_truck = load_folder('articulated_truck')\n",
    "background = load_folder('background')\n",
    "bicycle = load_folder('bicycle')\n",
    "bus = load_folder('bus')\n",
    "car = load_folder('car')\n",
    "motorcycle = load_folder('motorcycle')\n",
    "non_motorized_vehicle = load_folder('non-motorized_vehicle')\n",
    "pedestrian = load_folder('pedestrian')\n",
    "pickup_truck = load_folder('pickup_truck')\n",
    "single_unit_truck = load_folder('single_unit_truck')\n",
    "work_van = load_folder('work_van')"
   ]
  },
  {
   "cell_type": "code",
   "execution_count": 6,
   "metadata": {},
   "outputs": [],
   "source": [
    "# Create the data and labels variables\n",
    "X = articulated_truck + background + bicycle + bus + car + motorcycle + non_motorized_vehicle + pedestrian + pickup_truck + single_unit_truck + work_van\n",
    "y = ['articulated_truck']*len(articulated_truck) + ['background']*len(background) + ['bicycle']*len(bicycle) + \\\n",
    "    ['bus']*len(bus) + ['car']*len(car) + ['motorcycle']*len(motorcycle) + ['non_motorized_vehicle']*len(non_motorized_vehicle)\\\n",
    "    + ['pedestrian']*len(pedestrian) + ['pickup_truck']*len(pickup_truck) + ['single_unit_truck']*len(single_unit_truck) + \\\n",
    "    ['work_van']*len(work_van)\n",
    "\n",
    "# Split the data into a training and test set\n",
    "X_train, X_test, y_train, y_test = train_test_split(X, y, test_size=0.15, random_state=69)"
   ]
  },
  {
   "cell_type": "code",
   "execution_count": 7,
   "metadata": {},
   "outputs": [],
   "source": [
    "# # Code adapted from official Keras repo: https://github.com/keras-team/keras/issues/4465\n",
    "# from keras.applications.vgg16 import VGG16\n",
    "# from keras.preprocessing import image\n",
    "# from keras.applications.vgg16 import preprocess_input\n",
    "# from keras.layers import Input, Flatten, Dense\n",
    "# from keras.models import Model\n",
    "# import numpy as np\n",
    "\n",
    "# #Get back the convolutional part of a VGG network trained on ImageNet\n",
    "# model_vgg16_conv = VGG16(weights='imagenet', include_top=False)\n",
    "# model_vgg16_conv.summary()\n",
    "\n",
    "# #Create your own input format (here 3x200x200)\n",
    "# input = Input(shape=(64,64,3),name = 'image_input')\n",
    "\n",
    "# #Use the generated model \n",
    "# output_vgg16_conv = model_vgg16_conv(input)\n",
    "\n",
    "# #Add the fully-connected layers \n",
    "# x = Flatten(name='flatten')(output_vgg16_conv)\n",
    "# x = Dense(128, activation='relu', name='fc1')(x)\n",
    "# #x = Dense(128, activation='relu', name='fc2')(x)\n",
    "# x = Dense(11, activation='softmax', name='predictions')(x)\n",
    "\n",
    "# #Create your own model \n",
    "# my_model = Model(input=input, output=x)\n",
    "\n",
    "# #In the summary, weights and layers from VGG part will be hidden, but they will be fit during the training\n",
    "# my_model.summary()\n",
    "\n",
    "\n",
    "# #Then training with your data !"
   ]
  },
  {
   "cell_type": "code",
   "execution_count": 8,
   "metadata": {
    "scrolled": false
   },
   "outputs": [
    {
     "name": "stderr",
     "output_type": "stream",
     "text": [
      "C:\\Users\\Pasha\\Anaconda3\\lib\\site-packages\\h5py\\__init__.py:36: FutureWarning: Conversion of the second argument of issubdtype from `float` to `np.floating` is deprecated. In future, it will be treated as `np.float64 == np.dtype(float).type`.\n",
      "  from ._conv import register_converters as _register_converters\n",
      "Using TensorFlow backend.\n"
     ]
    },
    {
     "name": "stdout",
     "output_type": "stream",
     "text": [
      "Encoding: 0 - Label: articulated_truck\n",
      "Encoding: 1 - Label: background\n",
      "Encoding: 2 - Label: bicycle\n",
      "Encoding: 3 - Label: bus\n",
      "Encoding: 4 - Label: car\n",
      "Encoding: 5 - Label: motorcycle\n",
      "Encoding: 6 - Label: non_motorized_vehicle\n",
      "Encoding: 7 - Label: pedestrian\n",
      "Encoding: 8 - Label: pickup_truck\n",
      "Encoding: 9 - Label: single_unit_truck\n",
      "Encoding: 10 - Label: work_van\n"
     ]
    },
    {
     "name": "stderr",
     "output_type": "stream",
     "text": [
      "C:\\Users\\Pasha\\Anaconda3\\lib\\site-packages\\sklearn\\preprocessing\\label.py:151: DeprecationWarning: The truth value of an empty array is ambiguous. Returning False, but in future this will result in an error. Use `array.size > 0` to check that an array is not empty.\n",
      "  if diff:\n",
      "C:\\Users\\Pasha\\Anaconda3\\lib\\site-packages\\sklearn\\preprocessing\\label.py:151: DeprecationWarning: The truth value of an empty array is ambiguous. Returning False, but in future this will result in an error. Use `array.size > 0` to check that an array is not empty.\n",
      "  if diff:\n",
      "C:\\Users\\Pasha\\Anaconda3\\lib\\site-packages\\sklearn\\preprocessing\\label.py:151: DeprecationWarning: The truth value of an empty array is ambiguous. Returning False, but in future this will result in an error. Use `array.size > 0` to check that an array is not empty.\n",
      "  if diff:\n",
      "C:\\Users\\Pasha\\Anaconda3\\lib\\site-packages\\sklearn\\preprocessing\\label.py:151: DeprecationWarning: The truth value of an empty array is ambiguous. Returning False, but in future this will result in an error. Use `array.size > 0` to check that an array is not empty.\n",
      "  if diff:\n",
      "C:\\Users\\Pasha\\Anaconda3\\lib\\site-packages\\sklearn\\preprocessing\\label.py:151: DeprecationWarning: The truth value of an empty array is ambiguous. Returning False, but in future this will result in an error. Use `array.size > 0` to check that an array is not empty.\n",
      "  if diff:\n",
      "C:\\Users\\Pasha\\Anaconda3\\lib\\site-packages\\sklearn\\preprocessing\\label.py:151: DeprecationWarning: The truth value of an empty array is ambiguous. Returning False, but in future this will result in an error. Use `array.size > 0` to check that an array is not empty.\n",
      "  if diff:\n",
      "C:\\Users\\Pasha\\Anaconda3\\lib\\site-packages\\sklearn\\preprocessing\\label.py:151: DeprecationWarning: The truth value of an empty array is ambiguous. Returning False, but in future this will result in an error. Use `array.size > 0` to check that an array is not empty.\n",
      "  if diff:\n",
      "C:\\Users\\Pasha\\Anaconda3\\lib\\site-packages\\sklearn\\preprocessing\\label.py:151: DeprecationWarning: The truth value of an empty array is ambiguous. Returning False, but in future this will result in an error. Use `array.size > 0` to check that an array is not empty.\n",
      "  if diff:\n",
      "C:\\Users\\Pasha\\Anaconda3\\lib\\site-packages\\sklearn\\preprocessing\\label.py:151: DeprecationWarning: The truth value of an empty array is ambiguous. Returning False, but in future this will result in an error. Use `array.size > 0` to check that an array is not empty.\n",
      "  if diff:\n",
      "C:\\Users\\Pasha\\Anaconda3\\lib\\site-packages\\sklearn\\preprocessing\\label.py:151: DeprecationWarning: The truth value of an empty array is ambiguous. Returning False, but in future this will result in an error. Use `array.size > 0` to check that an array is not empty.\n",
      "  if diff:\n",
      "C:\\Users\\Pasha\\Anaconda3\\lib\\site-packages\\sklearn\\preprocessing\\label.py:151: DeprecationWarning: The truth value of an empty array is ambiguous. Returning False, but in future this will result in an error. Use `array.size > 0` to check that an array is not empty.\n",
      "  if diff:\n"
     ]
    }
   ],
   "source": [
    "from sklearn.preprocessing import LabelEncoder\n",
    "from keras.utils import to_categorical\n",
    "\n",
    "y = ['articulated_truck']*len(articulated_truck) + ['background']*len(background) + ['bicycle']*len(bicycle) + \\\n",
    "    ['bus']*len(bus) + ['car']*len(car) + ['motorcycle']*len(motorcycle) + ['non_motorized_vehicle']*len(non_motorized_vehicle)\\\n",
    "    + ['pedestrian']*len(pedestrian) + ['pickup_truck']*len(pickup_truck) + ['single_unit_truck']*len(single_unit_truck) + \\\n",
    "    ['work_van']*len(work_van)\n",
    "\n",
    "enc = LabelEncoder()\n",
    "y_train = enc.fit_transform(y_train)\n",
    "y_train = to_categorical(y_train)\n",
    "y_test = enc.transform(y_test)\n",
    "y_test = to_categorical(y_test)\n",
    "\n",
    "for i in range(11):\n",
    "    print('Encoding:',i, '- Label:', enc.inverse_transform(i))"
   ]
  },
  {
   "cell_type": "code",
   "execution_count": 9,
   "metadata": {},
   "outputs": [],
   "source": [
    "X_train = np.array(X_train)/255\n",
    "X_test = np.array(X_test)/255\n",
    "\n",
    "X_train = np.array(X_train).reshape(-1,32,32,1)\n",
    "X_test = np.array(X_test).reshape(-1,32,32,1)"
   ]
  },
  {
   "cell_type": "code",
   "execution_count": 10,
   "metadata": {
    "scrolled": false
   },
   "outputs": [
    {
     "name": "stdout",
     "output_type": "stream",
     "text": [
      "_________________________________________________________________\n",
      "Layer (type)                 Output Shape              Param #   \n",
      "=================================================================\n",
      "conv2d_1 (Conv2D)            (None, 30, 30, 16)        160       \n",
      "_________________________________________________________________\n",
      "max_pooling2d_1 (MaxPooling2 (None, 15, 15, 16)        0         \n",
      "_________________________________________________________________\n",
      "dropout_1 (Dropout)          (None, 15, 15, 16)        0         \n",
      "_________________________________________________________________\n",
      "conv2d_2 (Conv2D)            (None, 11, 11, 32)        12832     \n",
      "_________________________________________________________________\n",
      "max_pooling2d_2 (MaxPooling2 (None, 5, 5, 32)          0         \n",
      "_________________________________________________________________\n",
      "dropout_2 (Dropout)          (None, 5, 5, 32)          0         \n",
      "_________________________________________________________________\n",
      "flatten_1 (Flatten)          (None, 800)               0         \n",
      "_________________________________________________________________\n",
      "dense_1 (Dense)              (None, 1024)              820224    \n",
      "_________________________________________________________________\n",
      "dropout_3 (Dropout)          (None, 1024)              0         \n",
      "_________________________________________________________________\n",
      "dense_2 (Dense)              (None, 11)                11275     \n",
      "=================================================================\n",
      "Total params: 844,491\n",
      "Trainable params: 844,491\n",
      "Non-trainable params: 0\n",
      "_________________________________________________________________\n",
      "(441289, 32, 32, 1)\n",
      "Train on 441289 samples, validate on 77875 samples\n",
      "Epoch 1/30\n",
      "441289/441289 [==============================] - 19s 44us/step - loss: 0.9216 - acc: 0.7175 - val_loss: 0.6684 - val_acc: 0.7887\n",
      "Epoch 2/30\n",
      "441289/441289 [==============================] - 16s 37us/step - loss: 0.6252 - acc: 0.8053 - val_loss: 0.5179 - val_acc: 0.8366\n",
      "Epoch 3/30\n",
      "441289/441289 [==============================] - 16s 37us/step - loss: 0.5100 - acc: 0.8402 - val_loss: 0.4072 - val_acc: 0.8723\n",
      "Epoch 4/30\n",
      "441289/441289 [==============================] - 17s 37us/step - loss: 0.4424 - acc: 0.8600 - val_loss: 0.3634 - val_acc: 0.8827\n",
      "Epoch 5/30\n",
      "441289/441289 [==============================] - 16s 37us/step - loss: 0.3969 - acc: 0.8739 - val_loss: 0.3325 - val_acc: 0.8977\n",
      "Epoch 6/30\n",
      "441289/441289 [==============================] - 17s 37us/step - loss: 0.3657 - acc: 0.8836 - val_loss: 0.3042 - val_acc: 0.9083\n",
      "Epoch 7/30\n",
      "441289/441289 [==============================] - 17s 37us/step - loss: 0.3408 - acc: 0.8913 - val_loss: 0.2910 - val_acc: 0.9044\n",
      "Epoch 8/30\n",
      "441289/441289 [==============================] - 17s 37us/step - loss: 0.3214 - acc: 0.8975 - val_loss: 0.2962 - val_acc: 0.9100\n",
      "Epoch 9/30\n",
      "441289/441289 [==============================] - 17s 37us/step - loss: 0.3060 - acc: 0.9023 - val_loss: 0.2548 - val_acc: 0.9211\n",
      "Epoch 10/30\n",
      "441289/441289 [==============================] - 17s 37us/step - loss: 0.2920 - acc: 0.9066 - val_loss: 0.2449 - val_acc: 0.9236\n",
      "Epoch 11/30\n",
      "441289/441289 [==============================] - 17s 38us/step - loss: 0.2805 - acc: 0.9106 - val_loss: 0.2511 - val_acc: 0.9242\n",
      "Epoch 12/30\n",
      "441289/441289 [==============================] - 17s 38us/step - loss: 0.2695 - acc: 0.9141 - val_loss: 0.2441 - val_acc: 0.9267\n",
      "Epoch 13/30\n",
      "441289/441289 [==============================] - 17s 38us/step - loss: 0.2608 - acc: 0.9165 - val_loss: 0.2207 - val_acc: 0.9296\n",
      "Epoch 14/30\n",
      "441289/441289 [==============================] - 17s 38us/step - loss: 0.2522 - acc: 0.9190 - val_loss: 0.2282 - val_acc: 0.9316\n",
      "Epoch 15/30\n",
      "441289/441289 [==============================] - 17s 38us/step - loss: 0.2442 - acc: 0.9217 - val_loss: 0.2111 - val_acc: 0.9328\n",
      "Epoch 16/30\n",
      "441289/441289 [==============================] - 17s 37us/step - loss: 0.2387 - acc: 0.9232 - val_loss: 0.2106 - val_acc: 0.9358\n",
      "Epoch 17/30\n",
      "441289/441289 [==============================] - 17s 38us/step - loss: 0.2329 - acc: 0.9251 - val_loss: 0.1972 - val_acc: 0.9372\n",
      "Epoch 18/30\n",
      "441289/441289 [==============================] - 17s 37us/step - loss: 0.2271 - acc: 0.9264 - val_loss: 0.1985 - val_acc: 0.9374\n",
      "Epoch 19/30\n",
      "441289/441289 [==============================] - 17s 38us/step - loss: 0.2226 - acc: 0.9278 - val_loss: 0.1934 - val_acc: 0.9394\n",
      "Epoch 20/30\n",
      "441289/441289 [==============================] - 17s 38us/step - loss: 0.2167 - acc: 0.9299 - val_loss: 0.1922 - val_acc: 0.9387\n",
      "Epoch 21/30\n",
      "441289/441289 [==============================] - 17s 38us/step - loss: 0.2122 - acc: 0.9316 - val_loss: 0.1864 - val_acc: 0.9406\n",
      "Epoch 22/30\n",
      "441289/441289 [==============================] - 17s 38us/step - loss: 0.2088 - acc: 0.9325 - val_loss: 0.1868 - val_acc: 0.9426\n",
      "Epoch 23/30\n",
      "441289/441289 [==============================] - 17s 38us/step - loss: 0.2039 - acc: 0.9339 - val_loss: 0.1874 - val_acc: 0.9414\n",
      "Epoch 24/30\n",
      "441289/441289 [==============================] - 17s 38us/step - loss: 0.2006 - acc: 0.9347 - val_loss: 0.1769 - val_acc: 0.9461\n",
      "Epoch 25/30\n",
      "441289/441289 [==============================] - 17s 38us/step - loss: 0.1974 - acc: 0.9360 - val_loss: 0.1797 - val_acc: 0.9433\n",
      "Epoch 26/30\n",
      "441289/441289 [==============================] - 17s 38us/step - loss: 0.1947 - acc: 0.9366 - val_loss: 0.1795 - val_acc: 0.9443\n",
      "Epoch 27/30\n",
      "441289/441289 [==============================] - 17s 38us/step - loss: 0.1907 - acc: 0.9375 - val_loss: 0.1747 - val_acc: 0.9458\n",
      "Epoch 28/30\n",
      "441289/441289 [==============================] - 17s 38us/step - loss: 0.1874 - acc: 0.9389 - val_loss: 0.1735 - val_acc: 0.9461\n",
      "Epoch 29/30\n",
      "441289/441289 [==============================] - 17s 38us/step - loss: 0.1857 - acc: 0.9397 - val_loss: 0.1711 - val_acc: 0.9477\n",
      "Epoch 30/30\n",
      "441289/441289 [==============================] - 17s 38us/step - loss: 0.1836 - acc: 0.9400 - val_loss: 0.1765 - val_acc: 0.9446\n",
      "77875/77875 [==============================] - 1s 17us/step\n"
     ]
    }
   ],
   "source": [
    "import keras\n",
    "from keras.models import Sequential\n",
    "from keras.layers import Dense, Dropout, Flatten\n",
    "from keras.layers import Conv2D, MaxPooling2D\n",
    "#from keras.optimizers import SGD\n",
    "\n",
    "model = Sequential()\n",
    "# input: 64x64 images with 1 channel -> (64, 64, 1) tensors.\n",
    "# this applies 16 convolution filters of size 3x3 each.\n",
    "model.add(Conv2D(16, (3, 3), activation='relu', input_shape=(32, 32, 1)))\n",
    "#model.add(Conv2D(16, (3, 3), activation='relu'))\n",
    "model.add(MaxPooling2D(pool_size=(2, 2)))\n",
    "model.add(Dropout(0.25))\n",
    "\n",
    "#model.add(Conv2D(32, (3, 3), activation='relu'))\n",
    "model.add(Conv2D(32, (5, 5), activation='relu'))\n",
    "model.add(MaxPooling2D(pool_size=(2, 2)))\n",
    "model.add(Dropout(0.25))\n",
    "\n",
    "model.add(Flatten())\n",
    "model.add(Dense(1024, activation='relu'))\n",
    "model.add(Dropout(0.25))\n",
    "model.add(Dense(11, activation='softmax'))\n",
    "model.summary()\n",
    "\n",
    "opt = keras.optimizers.Adadelta(lr=1.0, rho=0.95, epsilon=None, decay=0.0)\n",
    "model.compile(loss='categorical_crossentropy', metrics=['accuracy'], optimizer=opt)\n",
    "\n",
    "\n",
    "\n",
    "\n",
    "print(X_train.shape)\n",
    "history = model.fit(X_train, y_train, batch_size=1000, epochs=30, validation_data=(X_test, y_test))\n",
    "score = model.evaluate(X_test, y_test, batch_size=1000)"
   ]
  },
  {
   "cell_type": "code",
   "execution_count": 11,
   "metadata": {},
   "outputs": [
    {
     "data": {
      "text/plain": [
       "Text(0.5,1,'Accuracy Curves')"
      ]
     },
     "execution_count": 11,
     "metadata": {},
     "output_type": "execute_result"
    },
    {
     "data": {
      "image/png": "[encoded data removed]",
      "text/plain": [
       "<matplotlib.figure.Figure at 0x17630081e48>"
      ]
     },
     "metadata": {},
     "output_type": "display_data"
    },
    {
     "data": {
      "image/png": "[encoded data removed]",
      "text/plain": [
       "<matplotlib.figure.Figure at 0x1762f2c5b70>"
      ]
     },
     "metadata": {},
     "output_type": "display_data"
    }
   ],
   "source": [
    "import matplotlib.pyplot as plt\n",
    "# Loss Curves\n",
    "plt.figure(figsize=[8,6])\n",
    "plt.plot(history.history['loss'],'r',linewidth=3.0)\n",
    "plt.plot(history.history['val_loss'],'b',linewidth=3.0)\n",
    "plt.legend(['Training loss', 'Validation Loss'],fontsize=18)\n",
    "plt.xlabel('Epochs ',fontsize=16)\n",
    "plt.ylabel('Loss',fontsize=16)\n",
    "plt.title('Loss Curves',fontsize=16)\n",
    " \n",
    "# Accuracy Curves\n",
    "plt.figure(figsize=[8,6])\n",
    "plt.plot(history.history['acc'],'r',linewidth=3.0)\n",
    "plt.plot(history.history['val_acc'],'b',linewidth=3.0)\n",
    "plt.legend(['Training Accuracy', 'Validation Accuracy'],fontsize=18)\n",
    "plt.xlabel('Epochs ',fontsize=16)\n",
    "plt.ylabel('Accuracy',fontsize=16)\n",
    "plt.title('Accuracy Curves',fontsize=16)"
   ]
  },
  {
   "cell_type": "code",
   "execution_count": 12,
   "metadata": {},
   "outputs": [],
   "source": [
    "# import keras\n",
    "# from keras.models import Sequential\n",
    "# from keras.layers import Dense, Dropout, Flatten\n",
    "# from keras.layers import Conv2D, MaxPooling2D\n",
    "# #from keras.optimizers import SGD\n",
    "\n",
    "# model = Sequential()\n",
    "# # input: 64x64 images with 1 channel -> (64, 64, 1) tensors.\n",
    "# # this applies 16 convolution filters of size 3x3 each.\n",
    "# model.add(Conv2D(16, (3, 3), activation='relu', input_shape=(32, 32, 1)))\n",
    "# #model.add(Conv2D(16, (3, 3), activation='relu'))\n",
    "# model.add(MaxPooling2D(pool_size=(2, 2)))\n",
    "# model.add(Dropout(0.25))\n",
    "\n",
    "# #model.add(Conv2D(32, (3, 3), activation='relu'))\n",
    "# model.add(Conv2D(32, (5, 5), activation='relu'))\n",
    "# model.add(MaxPooling2D(pool_size=(2, 2)))\n",
    "# model.add(Dropout(0.25))\n",
    "\n",
    "# model.add(Flatten())\n",
    "# model.add(Dense(1024, activation='relu'))\n",
    "# model.add(Dropout(0.25))\n",
    "# model.add(Dense(11, activation='softmax'))\n",
    "# model.summary()\n",
    "\n",
    "# opt = keras.optimizers.Adadelta(lr=1.0, rho=0.95, epsilon=None, decay=0.0)\n",
    "# model.compile(loss='categorical_crossentropy', metrics=['accuracy'], optimizer=opt)\n",
    "\n",
    "# X_train = np.array(X_train)/255\n",
    "# X_test = np.array(X_test)/255\n",
    "\n",
    "# X_train = np.array(X_train).reshape(-1,32,32,1)\n",
    "# X_test = np.array(X_test).reshape(-1,32,32,1)\n",
    "\n",
    "\n",
    "# print(X_train.shape)\n",
    "# history = model.fit(X_train, y_train, batch_size=1000, epochs=10, validation_data=(X_test, y_test))\n",
    "# score = model.evaluate(X_test, y_test, batch_size=1000)"
   ]
  }
 ],
 "metadata": {
  "kernelspec": {
   "display_name": "Python 3",
   "language": "python",
   "name": "python3"
  },
  "language_info": {
   "codemirror_mode": {
    "name": "ipython",
    "version": 3
   },
   "file_extension": ".py",
   "mimetype": "text/x-python",
   "name": "python",
   "nbconvert_exporter": "python",
   "pygments_lexer": "ipython3",
   "version": "3.6.4"
  }
 },
 "nbformat": 4,
 "nbformat_minor": 2
}
