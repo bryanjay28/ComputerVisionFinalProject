{
 "cells": [
  {
   "cell_type": "code",
   "execution_count": 1,
   "metadata": {},
   "outputs": [],
   "source": [
    "import cv2\n",
    "import cv2\n",
    "import numpy as np\n",
    "import math\n",
    "import matplotlib.pyplot as plt\n",
    "import os\n",
    "import sys\n",
    "\n",
    "from os import listdir\n",
    "from sklearn.model_selection import train_test_split\n",
    "from sklearn.metrics import accuracy_score\n",
    "from sklearn.neighbors import KNeighborsClassifier\n",
    "from sklearn.decomposition import PCA\n",
    "from sklearn.metrics import classification_report\n",
    "from sklearn.svm import LinearSVC"
   ]
  },
  {
   "cell_type": "code",
   "execution_count": 2,
   "metadata": {},
   "outputs": [],
   "source": [
    "num_samples = 100\n",
    "# Function to load the images given the folder name\n",
    "def load_path(path):\n",
    "    imgs = []\n",
    "    files = listdir('./MIO-TCD-Classification/train/{}/'.format(path))\n",
    "    img_counter = 0\n",
    "    for img in files:\n",
    "        img = cv2.cvtColor(cv2.imread('./MIO-TCD-Classification/train/{}/{}'.format(path,img)), cv2.COLOR_BGR2GRAY)\n",
    "        img = cv2.resize(img, (128,128))\n",
    "        imgs.append(img)\n",
    "        img_counter += 1\n",
    "        if(img_counter==num_samples): break\n",
    "    return imgs"
   ]
  },
  {
   "cell_type": "code",
   "execution_count": null,
   "metadata": {},
   "outputs": [],
   "source": [
    "articulated_truck = load_path('articulated_truck')\n",
    "background = load_path('background')\n",
    "bicycle = load_path('bicycle')\n",
    "bus = load_path('bus')\n",
    "car = load_path('car')\n",
    "motorcycle = load_path('motorcycle')\n",
    "non_motorized_vehicle = load_path('non-motorized_vehicle')\n",
    "pedestrian = load_path('pedestrian')\n",
    "pickup_truck = load_path('pickup_truck')\n",
    "single_unit_truck = load_path('single_unit_truck')\n",
    "work_van = load_path('work_van')"
   ]
  },
  {
   "cell_type": "code",
   "execution_count": null,
   "metadata": {},
   "outputs": [],
   "source": [
    "X = articulated_truck + background + bicycle + bus + car + motorcycle + non_motorized_vehicle + pedestrian + pickup_truck + single_unit_truck + work_van\n",
    "y = ['articulated_truck']*num_samples + ['background']*num_samples + ['bicycle']*num_samples + ['bus']*num_samples + ['car']*num_samples + ['motorcycle']*num_samples + ['non_motorized_vehicle']*num_samples + ['pedestrian']*num_samples + ['pickup_truck']*num_samples + ['single_unit_truck']*num_samples + ['work_van']*num_samples"
   ]
  },
  {
   "cell_type": "code",
   "execution_count": null,
   "metadata": {},
   "outputs": [],
   "source": [
    "# Function to compute HoG features of a list of images\n",
    "def compute_HoG(imgs, cell_size, block_size, nbins, h, w):\n",
    "    img_features = []\n",
    "    hog = cv2.HOGDescriptor(_winSize=((w // cell_size[1]) * cell_size[1],\n",
    "                                  (h // cell_size[0]) * cell_size[0]),\n",
    "                        _blockSize=(block_size[1] * cell_size[1],\n",
    "                                    block_size[0] * cell_size[0]),\n",
    "                        _blockStride=(cell_size[1], cell_size[0]),\n",
    "                        _cellSize=(cell_size[1], cell_size[0]),\n",
    "                        _nbins=nbins)\n",
    "    n_cells = (h // cell_size[0], w // cell_size[1])\n",
    "    \n",
    "    for img in imgs:\n",
    "\n",
    "        hog_feats = hog.compute(img)\\\n",
    "                .reshape(n_cells[1] - block_size[1] + 1,\n",
    "                        n_cells[0] - block_size[0] + 1,\n",
    "                        block_size[0], block_size[1], nbins) \\\n",
    "               .transpose((1, 0, 2, 3, 4))  # index blocks by rows first\n",
    "                \n",
    "        # computation for BlockNorm\n",
    "\n",
    "        gradients = np.full((n_cells[0], n_cells[1], nbins), 0, dtype=float)\n",
    "        cell_count = np.full((n_cells[0], n_cells[1], 1), 0, dtype=int)\n",
    "\n",
    "        for off_y in range(block_size[0]):\n",
    "            for off_x in range(block_size[1]):\n",
    "                gradients[off_y:n_cells[0] - block_size[0] + off_y + 1,\n",
    "                          off_x:n_cells[1] - block_size[1] + off_x + 1] += \\\n",
    "                    hog_feats[:, :, off_y, off_x, :]\n",
    "                cell_count[off_y:n_cells[0] - block_size[0] + off_y + 1,\n",
    "                           off_x:n_cells[1] - block_size[1] + off_x + 1] += 1\n",
    "\n",
    "        # Average gradients\n",
    "        gradients /= cell_count\n",
    "        \n",
    "        img_features.append(gradients)\n",
    "        \n",
    "    return img_features"
   ]
  },
  {
   "cell_type": "code",
   "execution_count": null,
   "metadata": {},
   "outputs": [],
   "source": [
    "X_train, X_test, y_train, y_test = train_test_split(X, y, test_size=0.15, random_state=69)\n",
    "\n",
    "\n",
    "c_size = (4,4)\n",
    "b_size = (4,4)\n",
    "bins = 8\n",
    "height = 128\n",
    "width = 128\n",
    "\n",
    "HoG_feat = compute_HoG(X_train, c_size, b_size, bins, height, width)"
   ]
  },
  {
   "cell_type": "code",
   "execution_count": null,
   "metadata": {},
   "outputs": [],
   "source": [
    "bin = 4\n",
    "test = HoG_feat[0]\n",
    "plt.pcolor(test[:, :, bin])\n",
    "plt.gca().invert_yaxis()\n",
    "plt.gca().set_aspect('equal', adjustable='box')\n",
    "plt.title(\"Ford Train 1: HOG bin = 4\")\n",
    "plt.colorbar()\n",
    "plt.show()"
   ]
  },
  {
   "cell_type": "code",
   "execution_count": null,
   "metadata": {},
   "outputs": [],
   "source": [
    "# Part 4\n",
    "\n",
    "clf = LinearSVC()\n",
    "HoG_feat = np.array(HoG_feat)\n",
    "clf.fit(HoG_feat.reshape(HoG_feat.shape[0],-1),y_train)"
   ]
  },
  {
   "cell_type": "code",
   "execution_count": null,
   "metadata": {},
   "outputs": [],
   "source": [
    "HoG_feat_test = compute_HoG(X_test, c_size, b_size, bins, height, width)\n",
    "HoG_feat_test = np.array(HoG_feat_test)\n",
    "pred = clf.predict(HoG_feat_test.reshape(HoG_feat_test.shape[0],-1))\n",
    "\n",
    "print(classification_report(y_test,pred))"
   ]
  },
  {
   "cell_type": "code",
   "execution_count": null,
   "metadata": {},
   "outputs": [],
   "source": []
  },
  {
   "cell_type": "code",
   "execution_count": null,
   "metadata": {},
   "outputs": [],
   "source": []
  },
  {
   "cell_type": "code",
   "execution_count": null,
   "metadata": {},
   "outputs": [],
   "source": []
  },
  {
   "cell_type": "code",
   "execution_count": null,
   "metadata": {},
   "outputs": [],
   "source": []
  }
 ],
 "metadata": {
  "kernelspec": {
   "display_name": "Python 3",
   "language": "python",
   "name": "python3"
  },
  "language_info": {
   "codemirror_mode": {
    "name": "ipython",
    "version": 3
   },
   "file_extension": ".py",
   "mimetype": "text/x-python",
   "name": "python",
   "nbconvert_exporter": "python",
   "pygments_lexer": "ipython3",
   "version": "3.6.5"
  }
 },
 "nbformat": 4,
 "nbformat_minor": 2
}
